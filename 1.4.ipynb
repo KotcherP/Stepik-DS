{
  "nbformat": 4,
  "nbformat_minor": 0,
  "metadata": {
    "colab": {
      "name": "Stepik DS.ipynb",
      "provenance": [],
      "collapsed_sections": [],
      "include_colab_link": true
    },
    "kernelspec": {
      "name": "python3",
      "display_name": "Python 3"
    }
  },
  "cells": [
    {
      "cell_type": "markdown",
      "metadata": {
        "id": "view-in-github",
        "colab_type": "text"
      },
      "source": [
        "<a href=\"https://colab.research.google.com/github/KotcherP/Stepik-DS/blob/master/Stepik_DS.ipynb\" target=\"_parent\"><img src=\"https://colab.research.google.com/assets/colab-badge.svg\" alt=\"Open In Colab\"/></a>"
      ]
    },
    {
      "cell_type": "code",
      "metadata": {
        "id": "4xGpReTWM_zo",
        "colab_type": "code",
        "colab": {}
      },
      "source": [
        "import pandas as pd\n",
        "import numpy as np"
      ],
      "execution_count": 0,
      "outputs": []
    },
    {
      "cell_type": "code",
      "metadata": {
        "id": "lcFA8bhkOPaW",
        "colab_type": "code",
        "colab": {}
      },
      "source": [
        "students_perfomance = pd.read_csv(\"/content/StudentsPerformance.csv\")"
      ],
      "execution_count": 0,
      "outputs": []
    },
    {
      "cell_type": "code",
      "metadata": {
        "id": "SalSlCbh_Q9q",
        "colab_type": "code",
        "colab": {}
      },
      "source": [
        "students_perfomance.tail() #выбрать последние 5"
      ],
      "execution_count": 0,
      "outputs": []
    },
    {
      "cell_type": "code",
      "metadata": {
        "id": "E0zLFB-2_sNB",
        "colab_type": "code",
        "colab": {}
      },
      "source": [
        "students_perfomance.describe() #получает общую статистику по цисловым колонкам"
      ],
      "execution_count": 0,
      "outputs": []
    },
    {
      "cell_type": "code",
      "metadata": {
        "id": "0b_BoOO1_mdb",
        "colab_type": "code",
        "colab": {}
      },
      "source": [
        "students_perfomance.dtypes #получает типы колонок"
      ],
      "execution_count": 0,
      "outputs": []
    },
    {
      "cell_type": "code",
      "metadata": {
        "id": "MtUr2z_fBKiH",
        "colab_type": "code",
        "colab": {}
      },
      "source": [
        "students_perfomance.shape  #количество строк и колонок"
      ],
      "execution_count": 0,
      "outputs": []
    },
    {
      "cell_type": "code",
      "metadata": {
        "id": "Y-WkPQuEAbbC",
        "colab_type": "code",
        "colab": {}
      },
      "source": [
        "students_perfomance.groupby(\"gender\").aggregate({\"writing score\" : \"mean\"}) #группировка колонки по другой колонке"
      ],
      "execution_count": 0,
      "outputs": []
    },
    {
      "cell_type": "code",
      "metadata": {
        "id": "J5SL-DjR-inm",
        "colab_type": "code",
        "colab": {}
      },
      "source": [
        "students_perfomance.head() #выбрать первые 5"
      ],
      "execution_count": 0,
      "outputs": []
    },
    {
      "cell_type": "code",
      "metadata": {
        "id": "0elw_HNUXAIW",
        "colab_type": "code",
        "colab": {}
      },
      "source": [
        "students_perfomance.iloc[0:5,0:3]  #выбрать нужные строки и колонки - диапазоны"
      ],
      "execution_count": 0,
      "outputs": []
    },
    {
      "cell_type": "code",
      "metadata": {
        "id": "nQ1V49rMaL74",
        "colab_type": "code",
        "colab": {}
      },
      "source": [
        "students_perfomance.iloc[[0,2,5],[0,2,-1]] #выбрать нужные строки и колонки - конкретные"
      ],
      "execution_count": 0,
      "outputs": []
    },
    {
      "cell_type": "code",
      "metadata": {
        "id": "AOi_Sx5Tbqbw",
        "colab_type": "code",
        "colab": {}
      },
      "source": [
        "students_perfomance_with_names = students_perfomance.iloc[[0,3,4,7,8]]"
      ],
      "execution_count": 0,
      "outputs": []
    },
    {
      "cell_type": "code",
      "metadata": {
        "id": "9v89vSardIJ-",
        "colab_type": "code",
        "colab": {}
      },
      "source": [
        "students_perfomance_with_names.index = [\"Georgiy\", \"Sanya\", \"Lexa\", \"Diman\", \"Stason\"] #присвоить индексам имена"
      ],
      "execution_count": 0,
      "outputs": []
    },
    {
      "cell_type": "code",
      "metadata": {
        "id": "l8-EHuR7dxqg",
        "colab_type": "code",
        "colab": {}
      },
      "source": [
        "students_perfomance_with_names.loc[[\"Georgiy\",\"Diman\"] , [\"gender\",\"writing score\"]]  #отбор по именам индексов и именам колонок"
      ],
      "execution_count": 0,
      "outputs": []
    },
    {
      "cell_type": "code",
      "metadata": {
        "id": "uFKOlTlpe4a7",
        "colab_type": "code",
        "outputId": "0f5fd33f-2559-4a0a-9e92-d940f2d8b023",
        "colab": {
          "base_uri": "https://localhost:8080/",
          "height": 119
        }
      },
      "source": [
        "students_perfomance_with_names.iloc[:,0] #вернуть Series со всеми строками из 0 колонки"
      ],
      "execution_count": 23,
      "outputs": [
        {
          "output_type": "execute_result",
          "data": {
            "text/plain": [
              "Georgiy    female\n",
              "Sanya        male\n",
              "Lexa         male\n",
              "Diman        male\n",
              "Stason       male\n",
              "Name: gender, dtype: object"
            ]
          },
          "metadata": {
            "tags": []
          },
          "execution_count": 23
        }
      ]
    },
    {
      "cell_type": "code",
      "metadata": {
        "id": "-GNuimuB4B0O",
        "colab_type": "code",
        "colab": {}
      },
      "source": [
        "my_series1 = pd.Series([1,2,3],index=[\"Georgiy\", \"Sanya\", \"Lexa\"])  #до этого были dataFrame типы. А это тестовый пример типа Series\n",
        "my_series2 = pd.Series([4,5,6],index=[\"Georgiy\", \"Sanya\", \"Lexa\"])"
      ],
      "execution_count": 0,
      "outputs": []
    },
    {
      "cell_type": "code",
      "metadata": {
        "id": "Lo8uatuw5rRo",
        "colab_type": "code",
        "colab": {
          "base_uri": "https://localhost:8080/",
          "height": 142
        },
        "outputId": "30fe4fd4-a7f1-47b4-8618-228aeb1e5db0"
      },
      "source": [
        "pd.DataFrame({\"col_name_1\": my_series1, \"col_name_2\": my_series2}) #создание таблички DataFrame,которая сложена из нескольких массивов типа Series"
      ],
      "execution_count": 11,
      "outputs": [
        {
          "output_type": "execute_result",
          "data": {
            "text/html": [
              "<div>\n",
              "<style scoped>\n",
              "    .dataframe tbody tr th:only-of-type {\n",
              "        vertical-align: middle;\n",
              "    }\n",
              "\n",
              "    .dataframe tbody tr th {\n",
              "        vertical-align: top;\n",
              "    }\n",
              "\n",
              "    .dataframe thead th {\n",
              "        text-align: right;\n",
              "    }\n",
              "</style>\n",
              "<table border=\"1\" class=\"dataframe\">\n",
              "  <thead>\n",
              "    <tr style=\"text-align: right;\">\n",
              "      <th></th>\n",
              "      <th>col_name_1</th>\n",
              "      <th>col_name_2</th>\n",
              "    </tr>\n",
              "  </thead>\n",
              "  <tbody>\n",
              "    <tr>\n",
              "      <th>Georgiy</th>\n",
              "      <td>1</td>\n",
              "      <td>4</td>\n",
              "    </tr>\n",
              "    <tr>\n",
              "      <th>Sanya</th>\n",
              "      <td>2</td>\n",
              "      <td>5</td>\n",
              "    </tr>\n",
              "    <tr>\n",
              "      <th>Lexa</th>\n",
              "      <td>3</td>\n",
              "      <td>6</td>\n",
              "    </tr>\n",
              "  </tbody>\n",
              "</table>\n",
              "</div>"
            ],
            "text/plain": [
              "         col_name_1  col_name_2\n",
              "Georgiy           1           4\n",
              "Sanya             2           5\n",
              "Lexa              3           6"
            ]
          },
          "metadata": {
            "tags": []
          },
          "execution_count": 11
        }
      ]
    },
    {
      "cell_type": "code",
      "metadata": {
        "id": "Bm9_AOJlLeyb",
        "colab_type": "code",
        "colab": {
          "base_uri": "https://localhost:8080/",
          "height": 204
        },
        "outputId": "731dc7fe-a5df-454b-8db7-86480c0f0885"
      },
      "source": [
        "students_perfomance_with_names[[\"gender\"]] #с двумя [] - DataFrame, с одними - Series. В одном случае отделить кусок от таблицы,в другом - показать,что в колонке.\n",
        "#Работают по разному с методами,например с shape"
      ],
      "execution_count": 25,
      "outputs": [
        {
          "output_type": "execute_result",
          "data": {
            "text/html": [
              "<div>\n",
              "<style scoped>\n",
              "    .dataframe tbody tr th:only-of-type {\n",
              "        vertical-align: middle;\n",
              "    }\n",
              "\n",
              "    .dataframe tbody tr th {\n",
              "        vertical-align: top;\n",
              "    }\n",
              "\n",
              "    .dataframe thead th {\n",
              "        text-align: right;\n",
              "    }\n",
              "</style>\n",
              "<table border=\"1\" class=\"dataframe\">\n",
              "  <thead>\n",
              "    <tr style=\"text-align: right;\">\n",
              "      <th></th>\n",
              "      <th>gender</th>\n",
              "    </tr>\n",
              "  </thead>\n",
              "  <tbody>\n",
              "    <tr>\n",
              "      <th>0</th>\n",
              "      <td>female</td>\n",
              "    </tr>\n",
              "    <tr>\n",
              "      <th>3</th>\n",
              "      <td>male</td>\n",
              "    </tr>\n",
              "    <tr>\n",
              "      <th>4</th>\n",
              "      <td>male</td>\n",
              "    </tr>\n",
              "    <tr>\n",
              "      <th>7</th>\n",
              "      <td>male</td>\n",
              "    </tr>\n",
              "    <tr>\n",
              "      <th>8</th>\n",
              "      <td>male</td>\n",
              "    </tr>\n",
              "  </tbody>\n",
              "</table>\n",
              "</div>"
            ],
            "text/plain": [
              "   gender\n",
              "0  female\n",
              "3    male\n",
              "4    male\n",
              "7    male\n",
              "8    male"
            ]
          },
          "metadata": {
            "tags": []
          },
          "execution_count": 25
        }
      ]
    }
  ]
}
