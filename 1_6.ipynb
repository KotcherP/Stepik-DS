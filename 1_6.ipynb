{
  "nbformat": 4,
  "nbformat_minor": 0,
  "metadata": {
    "colab": {
      "name": "1.6",
      "provenance": [],
      "collapsed_sections": [],
      "authorship_tag": "ABX9TyOyqPrLSQjwhAlvlz0UZoYx",
      "include_colab_link": true
    },
    "kernelspec": {
      "name": "python3",
      "display_name": "Python 3"
    }
  },
  "cells": [
    {
      "cell_type": "markdown",
      "metadata": {
        "id": "view-in-github",
        "colab_type": "text"
      },
      "source": [
        "<a href=\"https://colab.research.google.com/github/KotcherP/Stepik-DS/blob/master/1_6.ipynb\" target=\"_parent\"><img src=\"https://colab.research.google.com/assets/colab-badge.svg\" alt=\"Open In Colab\"/></a>"
      ]
    },
    {
      "cell_type": "code",
      "metadata": {
        "id": "o4tRB3ZgQ4C5",
        "colab_type": "code",
        "colab": {}
      },
      "source": [
        "import pandas as pd"
      ],
      "execution_count": 0,
      "outputs": []
    },
    {
      "cell_type": "code",
      "metadata": {
        "id": "46WnzmRPRIVi",
        "colab_type": "code",
        "colab": {}
      },
      "source": [
        "students_perfomance = pd.read_csv(\"/content/StudentsPerformance.csv\")"
      ],
      "execution_count": 0,
      "outputs": []
    },
    {
      "cell_type": "code",
      "metadata": {
        "id": "5VHTz7jsRYZW",
        "colab_type": "code",
        "colab": {}
      },
      "source": [
        "students_perfomance.head()"
      ],
      "execution_count": 0,
      "outputs": []
    },
    {
      "cell_type": "code",
      "metadata": {
        "id": "dNoIEpOZRvy1",
        "colab_type": "code",
        "colab": {}
      },
      "source": [
        "students_perfomance.groupby(\"gender\").mean() #Группировка колонки,среднее значение числовых колоных по отношению к полу"
      ],
      "execution_count": 0,
      "outputs": []
    },
    {
      "cell_type": "code",
      "metadata": {
        "id": "b2bCvTd4SDod",
        "colab_type": "code",
        "colab": {}
      },
      "source": [
        "students_perfomance.groupby(\"gender\").aggregate({\"math score\":\"mean\",\"reading score\":\"mean\"}) #детализация числовых колонок и группировка по ним.В качестве индекса группируемая колонка"
      ],
      "execution_count": 0,
      "outputs": []
    },
    {
      "cell_type": "code",
      "metadata": {
        "id": "bKYRHuTIdcVN",
        "colab_type": "code",
        "colab": {}
      },
      "source": [
        "#датафрейм с несколькими индексами\n",
        "mean_scores_ind = students_perfomance.groupby([\"gender\",\"race/ethnicity\"]) \\\n",
        "    .aggregate({\"math score\":\"mean\",\"reading score\":\"mean\"}) \\\n",
        "    .rename(columns = {\"math score\" : \"mean_math_score\",\"reading score\" : \"mean_reading_score\"}) "
      ],
      "execution_count": 0,
      "outputs": []
    },
    {
      "cell_type": "code",
      "metadata": {
        "id": "dDuDVzizdh5g",
        "colab_type": "code",
        "colab": {}
      },
      "source": [
        "mean_scores_ind.loc[[(\"female\",\"group A\"),(\"female\",\"group B\")]] #отобрать по индекса"
      ],
      "execution_count": 0,
      "outputs": []
    },
    {
      "cell_type": "code",
      "metadata": {
        "id": "f7cq87jYUiqX",
        "colab_type": "code",
        "colab": {}
      },
      "source": [
        "# \\ - продолжение строки кода,условие на то,чтобы индекса создался отдельно,а не по группируемым колонкам,указывается по каким колонкам будет среднее,переименовать колонки\n",
        "mean_scores = students_perfomance.groupby([\"gender\",\"race/ethnicity\"],as_index=False) \\\n",
        "    .aggregate({\"math score\":\"mean\",\"reading score\":\"mean\"}) \\\n",
        "    .rename(columns = {\"math score\" : \"mean_math_score\",\"reading score\" : \"mean_reading_score\"}) \n"
      ],
      "execution_count": 0,
      "outputs": []
    },
    {
      "cell_type": "code",
      "metadata": {
        "id": "DjhY42mQgQ3K",
        "colab_type": "code",
        "colab": {}
      },
      "source": [
        "students_perfomance = students_perfomance.rename(columns={\"math score\":\"math_score\",\"reading score\":\"reading_score\",\"writing score\":\"writing_score\"}) #переименовать колонку"
      ],
      "execution_count": 0,
      "outputs": []
    },
    {
      "cell_type": "code",
      "metadata": {
        "id": "a16GtXwkgD5I",
        "colab_type": "code",
        "colab": {}
      },
      "source": [
        "students_perfomance.math_score.nunique() #число уникальных значений"
      ],
      "execution_count": 0,
      "outputs": []
    },
    {
      "cell_type": "code",
      "metadata": {
        "id": "iw1AIPHdhKje",
        "colab_type": "code",
        "colab": {}
      },
      "source": [
        "students_perfomance.groupby([\"gender\",\"race/ethnicity\"]).math_score.nunique() #уникальные значения по сгруппированным колонкам"
      ],
      "execution_count": 0,
      "outputs": []
    },
    {
      "cell_type": "code",
      "metadata": {
        "id": "K2nTYmiDhpB1",
        "colab_type": "code",
        "colab": {}
      },
      "source": [
        "#отсортировать по колонкам,ascending false - по убыванию,по-умолчанию по возрастанию. Задача - получить топ 5 юношей и топ 5 девушек по математическому баллу\n",
        "students_perfomance.sort_values([\"gender\",\"math_score\"],ascending=False) \\\n",
        "    .groupby(\"gender\").head()"
      ],
      "execution_count": 0,
      "outputs": []
    },
    {
      "cell_type": "code",
      "metadata": {
        "id": "wM2xLiWymzYU",
        "colab_type": "code",
        "colab": {}
      },
      "source": [
        "#добавить новую колонку.Значение в ней сумма других колонок\n",
        "students_perfomance[\"total_score\"] = students_perfomance.math_score + students_perfomance.reading_score + students_perfomance.writing_score"
      ],
      "execution_count": 0,
      "outputs": []
    },
    {
      "cell_type": "code",
      "metadata": {
        "id": "xNZvwfAvnJmL",
        "colab_type": "code",
        "colab": {}
      },
      "source": [
        "students_perfomance.head()"
      ],
      "execution_count": 0,
      "outputs": []
    }
  ]
}