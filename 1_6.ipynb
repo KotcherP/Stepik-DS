{
  "nbformat": 4,
  "nbformat_minor": 0,
  "metadata": {
    "colab": {
      "name": "1.6",
      "provenance": [],
      "collapsed_sections": [],
      "authorship_tag": "ABX9TyP3Y3bkyaPyQcJ7s0GvcILN",
      "include_colab_link": true
    },
    "kernelspec": {
      "name": "python3",
      "display_name": "Python 3"
    }
  },
  "cells": [
    {
      "cell_type": "markdown",
      "metadata": {
        "id": "view-in-github",
        "colab_type": "text"
      },
      "source": [
        "<a href=\"https://colab.research.google.com/github/KotcherP/Stepik-DS/blob/master/1_6.ipynb\" target=\"_parent\"><img src=\"https://colab.research.google.com/assets/colab-badge.svg\" alt=\"Open In Colab\"/></a>"
      ]
    },
    {
      "cell_type": "code",
      "metadata": {
        "id": "o4tRB3ZgQ4C5",
        "colab_type": "code",
        "colab": {}
      },
      "source": [
        "import pandas as pd\n",
        "import numpy as np"
      ],
      "execution_count": 0,
      "outputs": []
    },
    {
      "cell_type": "code",
      "metadata": {
        "id": "46WnzmRPRIVi",
        "colab_type": "code",
        "colab": {}
      },
      "source": [
        "students_perfomance = pd.read_csv(\"/content/StudentsPerformance.csv\")"
      ],
      "execution_count": 0,
      "outputs": []
    },
    {
      "cell_type": "code",
      "metadata": {
        "id": "5VHTz7jsRYZW",
        "colab_type": "code",
        "colab": {}
      },
      "source": [
        "students_perfomance.head()"
      ],
      "execution_count": 0,
      "outputs": []
    },
    {
      "cell_type": "code",
      "metadata": {
        "id": "dNoIEpOZRvy1",
        "colab_type": "code",
        "colab": {}
      },
      "source": [
        "students_perfomance.groupby(\"gender\").mean() #Группировка колонки,среднее значение числовых колоных по отношению к полу"
      ],
      "execution_count": 0,
      "outputs": []
    },
    {
      "cell_type": "code",
      "metadata": {
        "id": "b2bCvTd4SDod",
        "colab_type": "code",
        "colab": {}
      },
      "source": [
        "students_perfomance.groupby(\"gender\").aggregate({\"math score\":\"mean\",\"reading score\":\"mean\"}) #детализация числовых колонок и группировка по ним.В качестве индекса группируемая колонка"
      ],
      "execution_count": 0,
      "outputs": []
    },
    {
      "cell_type": "code",
      "metadata": {
        "id": "bKYRHuTIdcVN",
        "colab_type": "code",
        "colab": {}
      },
      "source": [
        "#датафрейм с несколькими индексами\n",
        "mean_scores_ind = students_perfomance.groupby([\"gender\",\"race/ethnicity\"]) \\\n",
        "    .aggregate({\"math score\":\"mean\",\"reading score\":\"mean\"}) \\\n",
        "    .rename(columns = {\"math score\" : \"mean_math_score\",\"reading score\" : \"mean_reading_score\"}) "
      ],
      "execution_count": 0,
      "outputs": []
    },
    {
      "cell_type": "code",
      "metadata": {
        "id": "dDuDVzizdh5g",
        "colab_type": "code",
        "colab": {}
      },
      "source": [
        "mean_scores_ind.loc[[(\"female\",\"group A\"),(\"female\",\"group B\")]] #отобрать по индекса"
      ],
      "execution_count": 0,
      "outputs": []
    },
    {
      "cell_type": "code",
      "metadata": {
        "id": "f7cq87jYUiqX",
        "colab_type": "code",
        "colab": {}
      },
      "source": [
        "# \\ - продолжение строки кода,условие на то,чтобы индекса создался отдельно,а не по группируемым колонкам,указывается по каким колонкам будет среднее,переименовать колонки\n",
        "mean_scores = students_perfomance.groupby([\"gender\",\"race/ethnicity\"],as_index=False) \\\n",
        "    .aggregate({\"math score\":\"mean\",\"reading score\":\"mean\"}) \\\n",
        "    .rename(columns = {\"math score\" : \"mean_math_score\",\"reading score\" : \"mean_reading_score\"}) \n"
      ],
      "execution_count": 0,
      "outputs": []
    },
    {
      "cell_type": "code",
      "metadata": {
        "id": "DjhY42mQgQ3K",
        "colab_type": "code",
        "colab": {}
      },
      "source": [
        "students_perfomance = students_perfomance.rename(columns={\"math score\":\"math_score\",\"reading score\":\"reading_score\",\"writing score\":\"writing_score\"}) #переименовать колонку"
      ],
      "execution_count": 0,
      "outputs": []
    },
    {
      "cell_type": "code",
      "metadata": {
        "id": "a16GtXwkgD5I",
        "colab_type": "code",
        "colab": {}
      },
      "source": [
        "students_perfomance.math_score.nunique() #число уникальных значений"
      ],
      "execution_count": 0,
      "outputs": []
    },
    {
      "cell_type": "code",
      "metadata": {
        "id": "iw1AIPHdhKje",
        "colab_type": "code",
        "colab": {}
      },
      "source": [
        "students_perfomance.groupby([\"gender\",\"race/ethnicity\"]).math_score.nunique() #уникальные значения по сгруппированным колонкам"
      ],
      "execution_count": 0,
      "outputs": []
    },
    {
      "cell_type": "code",
      "metadata": {
        "id": "K2nTYmiDhpB1",
        "colab_type": "code",
        "colab": {}
      },
      "source": [
        "#отсортировать по колонкам,ascending false - по убыванию,по-умолчанию по возрастанию. Задача - получить топ 5 юношей и топ 5 девушек по математическому баллу\n",
        "students_perfomance.sort_values([\"gender\",\"math_score\"],ascending=False) \\\n",
        "    .groupby(\"gender\").head()"
      ],
      "execution_count": 0,
      "outputs": []
    },
    {
      "cell_type": "code",
      "metadata": {
        "id": "wM2xLiWymzYU",
        "colab_type": "code",
        "colab": {}
      },
      "source": [
        "#добавить новую колонку.Значение в ней сумма других колонок\n",
        "students_perfomance[\"total_score\"] = students_perfomance.math_score + students_perfomance.reading_score + students_perfomance.writing_score"
      ],
      "execution_count": 0,
      "outputs": []
    },
    {
      "cell_type": "code",
      "metadata": {
        "id": "xNZvwfAvnJmL",
        "colab_type": "code",
        "colab": {}
      },
      "source": [
        "students_perfomance.head()"
      ],
      "execution_count": 0,
      "outputs": []
    },
    {
      "cell_type": "code",
      "metadata": {
        "id": "0Y6717h8KYxD",
        "colab_type": "code",
        "colab": {}
      },
      "source": [
        "students_perfomance = students_perfomance.assign(total_score_log = np.log(students_perfomance.total_score)) #создать колонку total_score_log,применив к total_score функцию логарифма"
      ],
      "execution_count": 0,
      "outputs": []
    },
    {
      "cell_type": "code",
      "metadata": {
        "id": "mmZ94fbgLDm7",
        "colab_type": "code",
        "colab": {}
      },
      "source": [
        "students_perfomance.head()"
      ],
      "execution_count": 0,
      "outputs": []
    },
    {
      "cell_type": "code",
      "metadata": {
        "id": "eeNb6DRdLSJw",
        "colab_type": "code",
        "colab": {
          "base_uri": "https://localhost:8080/",
          "height": 419
        },
        "outputId": "caab9b92-15b2-48ba-ec9e-43bd76eeb6c4"
      },
      "source": [
        "students_perfomance.drop([\"total_score\",\"total_score_log\"],axis=\"columns\") #удалить колонки"
      ],
      "execution_count": 108,
      "outputs": [
        {
          "output_type": "execute_result",
          "data": {
            "text/html": [
              "<div>\n",
              "<style scoped>\n",
              "    .dataframe tbody tr th:only-of-type {\n",
              "        vertical-align: middle;\n",
              "    }\n",
              "\n",
              "    .dataframe tbody tr th {\n",
              "        vertical-align: top;\n",
              "    }\n",
              "\n",
              "    .dataframe thead th {\n",
              "        text-align: right;\n",
              "    }\n",
              "</style>\n",
              "<table border=\"1\" class=\"dataframe\">\n",
              "  <thead>\n",
              "    <tr style=\"text-align: right;\">\n",
              "      <th></th>\n",
              "      <th>gender</th>\n",
              "      <th>race/ethnicity</th>\n",
              "      <th>parental level of education</th>\n",
              "      <th>lunch</th>\n",
              "      <th>test preparation course</th>\n",
              "      <th>math_score</th>\n",
              "      <th>reading_score</th>\n",
              "      <th>writing_score</th>\n",
              "    </tr>\n",
              "  </thead>\n",
              "  <tbody>\n",
              "    <tr>\n",
              "      <th>0</th>\n",
              "      <td>female</td>\n",
              "      <td>group B</td>\n",
              "      <td>bachelor's degree</td>\n",
              "      <td>standard</td>\n",
              "      <td>none</td>\n",
              "      <td>72</td>\n",
              "      <td>72</td>\n",
              "      <td>74</td>\n",
              "    </tr>\n",
              "    <tr>\n",
              "      <th>1</th>\n",
              "      <td>female</td>\n",
              "      <td>group C</td>\n",
              "      <td>some college</td>\n",
              "      <td>standard</td>\n",
              "      <td>completed</td>\n",
              "      <td>69</td>\n",
              "      <td>90</td>\n",
              "      <td>88</td>\n",
              "    </tr>\n",
              "    <tr>\n",
              "      <th>2</th>\n",
              "      <td>female</td>\n",
              "      <td>group B</td>\n",
              "      <td>master's degree</td>\n",
              "      <td>standard</td>\n",
              "      <td>none</td>\n",
              "      <td>90</td>\n",
              "      <td>95</td>\n",
              "      <td>93</td>\n",
              "    </tr>\n",
              "    <tr>\n",
              "      <th>3</th>\n",
              "      <td>male</td>\n",
              "      <td>group A</td>\n",
              "      <td>associate's degree</td>\n",
              "      <td>free/reduced</td>\n",
              "      <td>none</td>\n",
              "      <td>47</td>\n",
              "      <td>57</td>\n",
              "      <td>44</td>\n",
              "    </tr>\n",
              "    <tr>\n",
              "      <th>4</th>\n",
              "      <td>male</td>\n",
              "      <td>group C</td>\n",
              "      <td>some college</td>\n",
              "      <td>standard</td>\n",
              "      <td>none</td>\n",
              "      <td>76</td>\n",
              "      <td>78</td>\n",
              "      <td>75</td>\n",
              "    </tr>\n",
              "    <tr>\n",
              "      <th>...</th>\n",
              "      <td>...</td>\n",
              "      <td>...</td>\n",
              "      <td>...</td>\n",
              "      <td>...</td>\n",
              "      <td>...</td>\n",
              "      <td>...</td>\n",
              "      <td>...</td>\n",
              "      <td>...</td>\n",
              "    </tr>\n",
              "    <tr>\n",
              "      <th>995</th>\n",
              "      <td>female</td>\n",
              "      <td>group E</td>\n",
              "      <td>master's degree</td>\n",
              "      <td>standard</td>\n",
              "      <td>completed</td>\n",
              "      <td>88</td>\n",
              "      <td>99</td>\n",
              "      <td>95</td>\n",
              "    </tr>\n",
              "    <tr>\n",
              "      <th>996</th>\n",
              "      <td>male</td>\n",
              "      <td>group C</td>\n",
              "      <td>high school</td>\n",
              "      <td>free/reduced</td>\n",
              "      <td>none</td>\n",
              "      <td>62</td>\n",
              "      <td>55</td>\n",
              "      <td>55</td>\n",
              "    </tr>\n",
              "    <tr>\n",
              "      <th>997</th>\n",
              "      <td>female</td>\n",
              "      <td>group C</td>\n",
              "      <td>high school</td>\n",
              "      <td>free/reduced</td>\n",
              "      <td>completed</td>\n",
              "      <td>59</td>\n",
              "      <td>71</td>\n",
              "      <td>65</td>\n",
              "    </tr>\n",
              "    <tr>\n",
              "      <th>998</th>\n",
              "      <td>female</td>\n",
              "      <td>group D</td>\n",
              "      <td>some college</td>\n",
              "      <td>standard</td>\n",
              "      <td>completed</td>\n",
              "      <td>68</td>\n",
              "      <td>78</td>\n",
              "      <td>77</td>\n",
              "    </tr>\n",
              "    <tr>\n",
              "      <th>999</th>\n",
              "      <td>female</td>\n",
              "      <td>group D</td>\n",
              "      <td>some college</td>\n",
              "      <td>free/reduced</td>\n",
              "      <td>none</td>\n",
              "      <td>77</td>\n",
              "      <td>86</td>\n",
              "      <td>86</td>\n",
              "    </tr>\n",
              "  </tbody>\n",
              "</table>\n",
              "<p>1000 rows × 8 columns</p>\n",
              "</div>"
            ],
            "text/plain": [
              "     gender race/ethnicity  ... reading_score writing_score\n",
              "0    female        group B  ...            72            74\n",
              "1    female        group C  ...            90            88\n",
              "2    female        group B  ...            95            93\n",
              "3      male        group A  ...            57            44\n",
              "4      male        group C  ...            78            75\n",
              "..      ...            ...  ...           ...           ...\n",
              "995  female        group E  ...            99            95\n",
              "996    male        group C  ...            55            55\n",
              "997  female        group C  ...            71            65\n",
              "998  female        group D  ...            78            77\n",
              "999  female        group D  ...            86            86\n",
              "\n",
              "[1000 rows x 8 columns]"
            ]
          },
          "metadata": {
            "tags": []
          },
          "execution_count": 108
        }
      ]
    }
  ]
}