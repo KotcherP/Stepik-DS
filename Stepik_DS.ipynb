{
  "nbformat": 4,
  "nbformat_minor": 0,
  "metadata": {
    "colab": {
      "name": "Stepik DS.ipynb",
      "provenance": [],
      "collapsed_sections": [],
      "include_colab_link": true
    },
    "kernelspec": {
      "name": "python3",
      "display_name": "Python 3"
    }
  },
  "cells": [
    {
      "cell_type": "markdown",
      "metadata": {
        "id": "view-in-github",
        "colab_type": "text"
      },
      "source": [
        "<a href=\"https://colab.research.google.com/github/KotcherP/Stepik-DS/blob/master/Stepik_DS.ipynb\" target=\"_parent\"><img src=\"https://colab.research.google.com/assets/colab-badge.svg\" alt=\"Open In Colab\"/></a>"
      ]
    },
    {
      "cell_type": "code",
      "metadata": {
        "id": "4xGpReTWM_zo",
        "colab_type": "code",
        "colab": {}
      },
      "source": [
        "import pandas as pd\n",
        "import numpy as np"
      ],
      "execution_count": 0,
      "outputs": []
    },
    {
      "cell_type": "code",
      "metadata": {
        "id": "lcFA8bhkOPaW",
        "colab_type": "code",
        "colab": {}
      },
      "source": [
        "students_perfomance = pd.read_csv(\"/content/StudentsPerformance.csv\")"
      ],
      "execution_count": 0,
      "outputs": []
    },
    {
      "cell_type": "code",
      "metadata": {
        "id": "SalSlCbh_Q9q",
        "colab_type": "code",
        "colab": {}
      },
      "source": [
        "students_perfomance.tail()"
      ],
      "execution_count": 0,
      "outputs": []
    },
    {
      "cell_type": "code",
      "metadata": {
        "id": "E0zLFB-2_sNB",
        "colab_type": "code",
        "colab": {}
      },
      "source": [
        "students_perfomance.describe()"
      ],
      "execution_count": 0,
      "outputs": []
    },
    {
      "cell_type": "code",
      "metadata": {
        "id": "0b_BoOO1_mdb",
        "colab_type": "code",
        "colab": {}
      },
      "source": [
        "students_perfomance.dtypes"
      ],
      "execution_count": 0,
      "outputs": []
    },
    {
      "cell_type": "code",
      "metadata": {
        "id": "MtUr2z_fBKiH",
        "colab_type": "code",
        "colab": {}
      },
      "source": [
        "students_perfomance.shape  #строк и колонок"
      ],
      "execution_count": 0,
      "outputs": []
    },
    {
      "cell_type": "code",
      "metadata": {
        "id": "J5SL-DjR-inm",
        "colab_type": "code",
        "colab": {}
      },
      "source": [
        "students_perfomance.head()"
      ],
      "execution_count": 0,
      "outputs": []
    },
    {
      "cell_type": "code",
      "metadata": {
        "id": "Y-WkPQuEAbbC",
        "colab_type": "code",
        "colab": {}
      },
      "source": [
        "students_perfomance.groupby(\"gender\").aggregate({\"writing score\" : \"mean\"})"
      ],
      "execution_count": 0,
      "outputs": []
    }
  ]
}